{
 "cells": [
  {
   "cell_type": "code",
   "execution_count": null,
   "metadata": {
    "collapsed": true
   },
   "outputs": [],
   "source": []
  },
  {
   "cell_type": "markdown",
   "metadata": {},
   "source": [
    "this is a markdown cell\n",
    "\n",
    "The convention in Object Oriented Programming as well as functional programmings is that Constants (variables thatnever change) are written in \"UPPER CASE\". Another convention unique to OOP is \"Proper case\" (first letter only is capitalised)\n",
    "\n",
    "here is a list\n",
    "\n",
    "item 1\n",
    "item 2\n",
    "item 3"
   ]
  },
  {
   "cell_type": "code",
   "execution_count": 91,
   "metadata": {
    "collapsed": true
   },
   "outputs": [],
   "source": [
    "# we define our class (blueprint) with two properties\n",
    "class Back_Pack:\n",
    "    MAX_WEIGHT = 15\n",
    "    MAX_SIZE = 4\n",
    "    items = []\n",
    "    \n",
    "    def total_weight(items_list):\n",
    "        total = 0\n",
    "        for item in items_list:\n",
    "            total += item[\"weight\"]\n",
    "        return total"
   ]
  },
  {
   "cell_type": "code",
   "execution_count": 92,
   "metadata": {},
   "outputs": [
    {
     "name": "stdout",
     "output_type": "stream",
     "text": [
      "15\n"
     ]
    }
   ],
   "source": [
    "# we instantiate a new object using the Back_Pack class\n",
    "my_back_pack = Back_Pack()\n",
    "print(my_back_pack.MAX_WEIGHT)"
   ]
  },
  {
   "cell_type": "code",
   "execution_count": 93,
   "metadata": {},
   "outputs": [],
   "source": [
    "\n",
    "my_back_pack.items.append(\"mouse\")\n",
    "my_back_pack.items.append(\"elephant\")"
   ]
  },
  {
   "cell_type": "code",
   "execution_count": 94,
   "metadata": {},
   "outputs": [
    {
     "name": "stdout",
     "output_type": "stream",
     "text": [
      "['mouse', 'elephant']\n"
     ]
    }
   ],
   "source": [
    "print(my_back_pack.items)"
   ]
  },
  {
   "cell_type": "code",
   "execution_count": 95,
   "metadata": {
    "collapsed": true
   },
   "outputs": [],
   "source": [
    "my_back_pack.items.append(\"frog\")"
   ]
  },
  {
   "cell_type": "code",
   "execution_count": 96,
   "metadata": {
    "collapsed": true
   },
   "outputs": [],
   "source": [
    "my_back_pack.items.append(\"clothing\")\n",
    "my_back_pack.items.append(\"shoes\")\n",
    "my_back_pack.items.append(\"snacks\")\n",
    "my_back_pack.items.append(\"medicines\")\n",
    "my_back_pack.items.append(\"charger\")\n",
    "my_back_pack.items.append(\"toiletries\")\n",
    "my_back_pack.items.append(\"sandals\")\n",
    "my_back_pack.items.append(\"socks\")\n",
    "my_back_pack.items.append(\"mouse\")\n",
    "my_back_pack.items.append(\"chocolates\")\n"
   ]
  },
  {
   "cell_type": "code",
   "execution_count": 97,
   "metadata": {},
   "outputs": [
    {
     "name": "stdout",
     "output_type": "stream",
     "text": [
      "['mouse', 'elephant', 'frog', 'clothing', 'shoes', 'snacks', 'medicines', 'charger', 'toiletries', 'sandals', 'socks', 'mouse', 'chocolates']\n"
     ]
    }
   ],
   "source": [
    "print(my_back_pack.items)"
   ]
  },
  {
   "cell_type": "markdown",
   "metadata": {},
   "source": [
    "initialize = get ready a value for the first time\n",
    "instantiate = to create (e.g. an object)\n"
   ]
  },
  {
   "cell_type": "code",
   "execution_count": 98,
   "metadata": {
    "collapsed": true
   },
   "outputs": [],
   "source": [
    "class Trip_Item:\n",
    "    def __init__(self, name, weight, size):\n",
    "        self.name = name\n",
    "        self.weight = weight\n",
    "        self.size = size # we assign the value of size to self.\n",
    "    \n",
    "    def __str__(self):\n",
    "            return self_name"
   ]
  },
  {
   "cell_type": "code",
   "execution_count": 99,
   "metadata": {},
   "outputs": [
    {
     "name": "stdout",
     "output_type": "stream",
     "text": [
      "Laptop\n",
      "5\n",
      "0.5\n"
     ]
    }
   ],
   "source": [
    "# I instantiate my first trip item, giving it a name\n",
    "# of \"Laptop\", a weight of 5 and a size of 0.5\n",
    "trip_item_1 = Trip_Item(\"Laptop\", 5, 0.5)\n",
    "\n",
    "print(trip_item_1.name)\n",
    "print(trip_item_1.weight)\n",
    "print(trip_item_1.size)"
   ]
  },
  {
   "cell_type": "code",
   "execution_count": 100,
   "metadata": {
    "collapsed": true
   },
   "outputs": [],
   "source": [
    "# instantiate some new objects\n",
    "trip_item_2 = Trip_Item(\"1 set of Clothing\", 3, 1)\n",
    "trip_item_3 = Trip_Item(\"1 Toiletries Set\", 0.5, .25)\n",
    "trip_item_4 = Trip_Item(\"1 box of Chocolates\", 1, .5)\n",
    "trip_item_5 = Trip_Item(\"1 Pair of Boots\", .5, 1)\n",
    "trip_item_6 = Trip_Item(\"1 rattlesnake\", 1, 0.25)"
   ]
  },
  {
   "cell_type": "code",
   "execution_count": 101,
   "metadata": {},
   "outputs": [],
   "source": [
    "trip_items = [trip_item_1, trip_item_2, trip_item_3, trip_item_4, trip_item_5, trip_item_6]"
   ]
  },
  {
   "cell_type": "code",
   "execution_count": 102,
   "metadata": {},
   "outputs": [],
   "source": [
    "# put all the items in the backpack\n",
    "for item in trip_items:\n",
    "    my_back_pack.items.append(item)"
   ]
  },
  {
   "cell_type": "code",
   "execution_count": 104,
   "metadata": {},
   "outputs": [
    {
     "name": "stdout",
     "output_type": "stream",
     "text": [
      "elephant\n"
     ]
    }
   ],
   "source": [
    "# this code below doesn't give human readable output\n",
    "print(my_back_pack.items[1])"
   ]
  },
  {
   "cell_type": "code",
   "execution_count": null,
   "metadata": {
    "collapsed": true
   },
   "outputs": [],
   "source": []
  }
 ],
 "metadata": {
  "kernelspec": {
   "display_name": "Python 3",
   "language": "python",
   "name": "python3"
  },
  "language_info": {
   "codemirror_mode": {
    "name": "ipython",
    "version": 3
   },
   "file_extension": ".py",
   "mimetype": "text/x-python",
   "name": "python",
   "nbconvert_exporter": "python",
   "pygments_lexer": "ipython3",
   "version": "3.6.3"
  }
 },
 "nbformat": 4,
 "nbformat_minor": 2
}
